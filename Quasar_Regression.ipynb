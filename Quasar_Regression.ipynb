{
  "nbformat": 4,
  "nbformat_minor": 0,
  "metadata": {
    "colab": {
      "name": "Quasar Regression 2",
      "provenance": [],
      "collapsed_sections": [],
      "authorship_tag": "ABX9TyPegtgSF3TemcZdQwSLHFm/",
      "include_colab_link": true
    },
    "kernelspec": {
      "name": "python3",
      "display_name": "Python 3"
    }
  },
  "cells": [
    {
      "cell_type": "markdown",
      "metadata": {
        "id": "view-in-github",
        "colab_type": "text"
      },
      "source": [
        "<a href=\"https://colab.research.google.com/github/NippunSharma/Locally-Weighted-Regression/blob/master/Quasar_Regression.ipynb\" target=\"_parent\"><img src=\"https://colab.research.google.com/assets/colab-badge.svg\" alt=\"Open In Colab\"/></a>"
      ]
    },
    {
      "cell_type": "code",
      "metadata": {
        "id": "QzSUh27PLDlm",
        "colab_type": "code",
        "colab": {}
      },
      "source": [
        "import numpy as np\n",
        "import matplotlib.pyplot as plt\n",
        "import pandas as pd"
      ],
      "execution_count": 0,
      "outputs": []
    },
    {
      "cell_type": "code",
      "metadata": {
        "id": "-o9sKkuJLQxH",
        "colab_type": "code",
        "colab": {}
      },
      "source": [
        "data = pd.read_csv('/content/quasar_train.txt')"
      ],
      "execution_count": 0,
      "outputs": []
    },
    {
      "cell_type": "code",
      "metadata": {
        "id": "SNEaqyMULhjO",
        "colab_type": "code",
        "colab": {
          "base_uri": "https://localhost:8080/",
          "height": 104
        },
        "outputId": "fc2b96f9-6408-4eb5-d2c0-0b038769bb04"
      },
      "source": [
        "data.info()"
      ],
      "execution_count": 4,
      "outputs": [
        {
          "output_type": "stream",
          "text": [
            "<class 'pandas.core.frame.DataFrame'>\n",
            "RangeIndex: 200 entries, 0 to 199\n",
            "Columns: 450 entries, 1150.000 to 1599.000\n",
            "dtypes: float64(450)\n",
            "memory usage: 703.2 KB\n"
          ],
          "name": "stdout"
        }
      ]
    },
    {
      "cell_type": "code",
      "metadata": {
        "id": "zMK8E54YLxrF",
        "colab_type": "code",
        "colab": {}
      },
      "source": [
        "wavelengths = data.columns.astype('float')\n",
        "wavelengths = np.array(wavelengths)"
      ],
      "execution_count": 0,
      "outputs": []
    },
    {
      "cell_type": "code",
      "metadata": {
        "id": "pPo0YRYCL4tA",
        "colab_type": "code",
        "colab": {}
      },
      "source": [
        "tau = 5\n",
        "X = wavelengths.copy()\n",
        "X = np.array(X).reshape((data.shape[1], 1))\n",
        "dummy = np.ones(X.shape)\n",
        "X = np.concatenate((dummy, X), axis=1)\n",
        "data_smoothed = []\n",
        "\n",
        "for k in range(data.shape[0]):\n",
        "  smoothed = []\n",
        "\n",
        "  Y = data.loc[k,:]\n",
        "  Y = np.array(Y).reshape((data.shape[1], 1))\n",
        "\n",
        "  W = np.zeros((data.shape[1], data.shape[1]))\n",
        "\n",
        "  for x in X:\n",
        "    x = np.array(x)\n",
        "    for i in range(data.shape[1]):\n",
        "      W[i][i] = np.math.exp(-np.sum((x - X[i])**2)/(2*(tau)**2))\n",
        "    theta_weighted = np.linalg.inv(X.T.dot(W.dot(X))).dot(X.T.dot(W.dot(Y)))\n",
        "    smoothed.append(theta_weighted.T.dot(x))\n",
        "  \n",
        "  data_smoothed.append(smoothed)\n"
      ],
      "execution_count": 0,
      "outputs": []
    },
    {
      "cell_type": "code",
      "metadata": {
        "id": "auGyaaYeL59-",
        "colab_type": "code",
        "colab": {}
      },
      "source": [
        "data_smoothed = np.array(data_smoothed)\n",
        "for i in range(data_smoothed.shape[0]):\n",
        "  i = np.array(i)"
      ],
      "execution_count": 0,
      "outputs": []
    },
    {
      "cell_type": "code",
      "metadata": {
        "id": "PWMKeH2-VWBb",
        "colab_type": "code",
        "colab": {}
      },
      "source": [
        "def difference(f1, f2):\n",
        "  return np.sum((f1 - f2)**2)\n",
        "\n",
        "def k_nearest(f, fi, k):\n",
        "  scores = []\n",
        "  for j in range(len(f)):\n",
        "    scores.append(difference(fi, f[j]))\n",
        "  \n",
        "  res = sorted(range(len(f)), key = lambda sub: scores[sub])\n",
        "  return res[1:k+1], scores[res[-1]]\n",
        "\n",
        "def ker(x):\n",
        "  return max(1 - x, 0)\n",
        "\n",
        "def functionalRegression(lyman, wavelengths, data, fright, k):\n",
        "  dataRight = []\n",
        "  dataLeft = []\n",
        "  for i in range(len(data)):\n",
        "    dataRight.append(np.array(data[i][wavelengths > lyman+100]))\n",
        "    dataLeft.append(np.array(data[i][wavelengths < lyman]))\n",
        "  dataRight = np.array(dataRight)\n",
        "  dataLeft = np.array(dataLeft)\n",
        "\n",
        "  kNeighbours, d = k_nearest(dataRight, fright, k)\n",
        "\n",
        "  num = 0\n",
        "  den = 0\n",
        "  for i in kNeighbours:\n",
        "    num += ker(difference(dataRight[i], fright)/d)*(dataLeft[i])\n",
        "    den += ker(difference(dataRight[i], fright)/d)\n",
        "  f_hat = num/den\n",
        "\n",
        "  return f_hat"
      ],
      "execution_count": 0,
      "outputs": []
    },
    {
      "cell_type": "code",
      "metadata": {
        "id": "lu2YHrnaku4X",
        "colab_type": "code",
        "colab": {}
      },
      "source": [
        "errors = []\n",
        "for i in range(data.shape[0]):\n",
        "  f_hat = functionalRegression(1200, wavelengths, data_smoothed, data_smoothed[i][wavelengths > 1300], 5)\n",
        "  errors.append(difference(f_hat, data_smoothed[i][wavelengths < 1200]))"
      ],
      "execution_count": 0,
      "outputs": []
    },
    {
      "cell_type": "code",
      "metadata": {
        "id": "Kz8VNB9ooE4R",
        "colab_type": "code",
        "colab": {
          "base_uri": "https://localhost:8080/",
          "height": 35
        },
        "outputId": "7a6bddb2-7207-485e-e48c-45a442d229c3"
      },
      "source": [
        "print(np.mean(errors))"
      ],
      "execution_count": 109,
      "outputs": [
        {
          "output_type": "stream",
          "text": [
            "2.2471434674107083\n"
          ],
          "name": "stdout"
        }
      ]
    },
    {
      "cell_type": "code",
      "metadata": {
        "id": "UWt7zwNeoQ-6",
        "colab_type": "code",
        "colab": {}
      },
      "source": [
        "test = pd.read_csv('/content/quasar_test.csv.txt')"
      ],
      "execution_count": 0,
      "outputs": []
    },
    {
      "cell_type": "code",
      "metadata": {
        "id": "nA6gyyO3oZks",
        "colab_type": "code",
        "colab": {
          "base_uri": "https://localhost:8080/",
          "height": 884
        },
        "outputId": "64b90f22-aaed-4c4e-cb51-b70849ca5ef0"
      },
      "source": [
        "\n",
        "tau = 5\n",
        "X = wavelengths.copy()\n",
        "X = np.array(X).reshape((test.shape[1], 1))\n",
        "dummy = np.ones(X.shape)\n",
        "X = np.concatenate((dummy, X), axis=1)\n",
        "test_smoothed = []\n",
        "\n",
        "for k in range(test.shape[0]):\n",
        "  smoothed = []\n",
        "  print('sample: ' + str(k))\n",
        "  Y = test.loc[k,:]\n",
        "  Y = np.array(Y).reshape((test.shape[1], 1))\n",
        "\n",
        "  W = np.zeros((test.shape[1], test.shape[1]))\n",
        "\n",
        "  for x in X:\n",
        "    x = np.array(x)\n",
        "    for i in range(test.shape[1]):\n",
        "      W[i][i] = np.math.exp(-np.sum((x - X[i])**2)/(2*(tau)**2))\n",
        "    theta_weighted = np.linalg.inv(X.T.dot(W.dot(X))).dot(X.T.dot(W.dot(Y)))\n",
        "    smoothed.append(theta_weighted.T.dot(x))\n",
        "  \n",
        "  test_smoothed.append(smoothed)\n"
      ],
      "execution_count": 123,
      "outputs": [
        {
          "output_type": "stream",
          "text": [
            "sample: 0\n",
            "sample: 1\n",
            "sample: 2\n",
            "sample: 3\n",
            "sample: 4\n",
            "sample: 5\n",
            "sample: 6\n",
            "sample: 7\n",
            "sample: 8\n",
            "sample: 9\n",
            "sample: 10\n",
            "sample: 11\n",
            "sample: 12\n",
            "sample: 13\n",
            "sample: 14\n",
            "sample: 15\n",
            "sample: 16\n",
            "sample: 17\n",
            "sample: 18\n",
            "sample: 19\n",
            "sample: 20\n",
            "sample: 21\n",
            "sample: 22\n",
            "sample: 23\n",
            "sample: 24\n",
            "sample: 25\n",
            "sample: 26\n",
            "sample: 27\n",
            "sample: 28\n",
            "sample: 29\n",
            "sample: 30\n",
            "sample: 31\n",
            "sample: 32\n",
            "sample: 33\n",
            "sample: 34\n",
            "sample: 35\n",
            "sample: 36\n",
            "sample: 37\n",
            "sample: 38\n",
            "sample: 39\n",
            "sample: 40\n",
            "sample: 41\n",
            "sample: 42\n",
            "sample: 43\n",
            "sample: 44\n",
            "sample: 45\n",
            "sample: 46\n",
            "sample: 47\n",
            "sample: 48\n",
            "sample: 49\n"
          ],
          "name": "stdout"
        }
      ]
    },
    {
      "cell_type": "code",
      "metadata": {
        "id": "06JA4hCkqJ5a",
        "colab_type": "code",
        "colab": {}
      },
      "source": [
        "test_smoothed = np.array(test_smoothed)\n",
        "errors_test = []\n",
        "for i in range(test.shape[0]):\n",
        "  test_smoothed[i] = np.array(test_smoothed[i])\n",
        "  f_hat = functionalRegression(1200, wavelengths, data_smoothed, test_smoothed[i][wavelengths > 1300], 3)\n",
        "  errors_test.append(difference(f_hat, test_smoothed[i][wavelengths < 1200]))"
      ],
      "execution_count": 0,
      "outputs": []
    },
    {
      "cell_type": "code",
      "metadata": {
        "id": "jHyvHqGSq1u_",
        "colab_type": "code",
        "colab": {
          "base_uri": "https://localhost:8080/",
          "height": 35
        },
        "outputId": "a592dba8-0d07-4872-cc22-da38cde24f8c"
      },
      "source": [
        "print(np.mean(errors_test))"
      ],
      "execution_count": 135,
      "outputs": [
        {
          "output_type": "stream",
          "text": [
            "3.2057949235994116\n"
          ],
          "name": "stdout"
        }
      ]
    }
  ]
}