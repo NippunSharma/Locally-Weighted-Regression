{
  "nbformat": 4,
  "nbformat_minor": 0,
  "metadata": {
    "colab": {
      "name": "Locally Weighted Regression",
      "provenance": [],
      "collapsed_sections": [],
      "toc_visible": true,
      "authorship_tag": "ABX9TyPCq3pkx+W+RRytCMlFX/X8",
      "include_colab_link": true
    },
    "kernelspec": {
      "name": "python3",
      "display_name": "Python 3"
    }
  },
  "cells": [
    {
      "cell_type": "markdown",
      "metadata": {
        "id": "view-in-github",
        "colab_type": "text"
      },
      "source": [
        "<a href=\"https://colab.research.google.com/github/NippunSharma/Locally-Weighted-Regression/blob/master/Locally_Weighted_Regression.ipynb\" target=\"_parent\"><img src=\"https://colab.research.google.com/assets/colab-badge.svg\" alt=\"Open In Colab\"/></a>"
      ]
    },
    {
      "cell_type": "code",
      "metadata": {
        "id": "G_AOF1vTTAzq",
        "colab_type": "code",
        "colab": {}
      },
      "source": [
        "import numpy as np\n",
        "\n",
        "class LocallyWeightedRegression:\n",
        "  def __init__(self, learning_rate=0.01, n_iter=500, bandwidth=1):\n",
        "    self.lr = learning_rate\n",
        "    self.n_iter = n_iter\n",
        "    self.band = bandwidth\n",
        "    self.theta = None\n",
        "  \n",
        "  # weight is of the form of a gaussian bell curve\n",
        "  def weight(self, X_test, X_train, band):\n",
        "    return np.math.exp(-np.sum((X_train - X_test)**2)/2*(band**2))\n",
        "  \n",
        "  def fit_predict(self, X_train, y_train, X_test, learning_rate, iter, bandwidth):\n",
        "    self.lr = learning_rate\n",
        "    self.n_iter = iter\n",
        "    self.band = bandwidth\n",
        "    \n",
        "    X_train['Constant'] = np.ones((len(X_train), 1))\n",
        "    X_train = np.array(X_train)\n",
        "    y_train = np.array(y_train)\n",
        "    X_test = np.array(X_test)\n",
        "\n",
        "    if(len(X_train.shape) == 1):\n",
        "      n_features = 1\n",
        "      n_samples = X_train.shape[0]\n",
        "    else:\n",
        "      n_samples, n_features = X_train.shape\n",
        "\n",
        "    self.theta = np.zeros((n_features, 1))\n",
        "\n",
        "    for t in range(self.n_iter):\n",
        "      for i in range(n_samples):\n",
        "        self.theta += 2*self.lr*(self.weight(X_test, X_train[i], self.band))*(y_train[i] - np.dot(self.theta.T, X_train[i].reshape((n_features, 1))))*(X_train[i].reshape((n_features, 1)))\n",
        "    \n",
        "    return (np.dot(self.theta.T, X_test.reshape((n_features, 1))))"
      ],
      "execution_count": 0,
      "outputs": []
    },
    {
      "cell_type": "code",
      "metadata": {
        "id": "E6y-xj-_mQpN",
        "colab_type": "code",
        "colab": {}
      },
      "source": [
        "import pandas as pd\n",
        "data = pd.read_csv('/content/Salary_Data.csv')\n",
        "X_train = data['YearsExperience']\n",
        "X_train = pd.DataFrame(X_train)\n",
        "y_train = data['Salary']\n",
        "X_test = pd.DataFrame({'YearsExperience':[5], 'Constant':[1]})\n",
        "\n",
        "model = LocallyWeightedRegression()\n",
        "pred = model.fit_predict(X_train, y_train, X_test, learning_rate=0.01, iter=1, bandwidth=1)"
      ],
      "execution_count": 0,
      "outputs": []
    },
    {
      "cell_type": "code",
      "metadata": {
        "id": "y4nX9J-ipSlx",
        "colab_type": "code",
        "colab": {
          "base_uri": "https://localhost:8080/",
          "height": 265
        },
        "outputId": "bbcdddb4-2ea1-476f-c369-fd9c1920644d"
      },
      "source": [
        "import matplotlib.pyplot as plt\n",
        "%matplotlib inline\n",
        "\n",
        "# Generating non-linear data\n",
        "np.random.seed(0)\n",
        "x = 2 - 3 * np.random.normal(0, 1, 20)\n",
        "y = x - 2 * (x ** 2) + 0.5 * (x ** 3) + np.random.normal(-3, 3, 20)\n",
        "plt.scatter(x,y, s=10)\n",
        "plt.show()\n"
      ],
      "execution_count": 132,
      "outputs": [
        {
          "output_type": "display_data",
          "data": {
            "image/png": "[encoded data removed]",
            "text/plain": [
              "<Figure size 432x288 with 1 Axes>"
            ]
          },
          "metadata": {
            "tags": [],
            "needs_background": "light"
          }
        }
      ]
    },
    {
      "cell_type": "code",
      "metadata": {
        "id": "oprtIFdMDJca",
        "colab_type": "code",
        "colab": {}
      },
      "source": [
        "# fitting linear regression to this data\n",
        "# code for linear model taking from corresponding repository\n",
        "\n",
        "class linear_model:\n",
        "    def __init__(self,learning_rate=0.01, l2_reg=0, n_iter=1000):\n",
        "        self.lr=learning_rate\n",
        "        self.l2_reg=l2_reg\n",
        "        self.n_iter=n_iter\n",
        "        self.w=None\n",
        "        self.b=None\n",
        "        \n",
        "    def fit(self,X,y,l2_reg=0,n_iter=1000,learning_rate=0.01,verbose=0):\n",
        "        \n",
        "        self.l2_reg=l2_reg\n",
        "        self.n_iter=n_iter\n",
        "        self.lr=learning_rate\n",
        "        \n",
        "        if(len(X.shape)==1):\n",
        "            n_samples=X.shape\n",
        "            n_features=1\n",
        "        else:\n",
        "            n_samples,n_features=X.shape\n",
        "        self.w=np.zeros((n_features,1))\n",
        "        self.b=0\n",
        "        \n",
        "        print('Starting -- learning_rate:',self.lr,',iterations:',self.n_iter,',L2_regularization:',self.l2_reg,'\\n')\n",
        "        for _ in range(self.n_iter):\n",
        "            s1=0\n",
        "            s2=0\n",
        "            for idx,x_i in enumerate(X):\n",
        "                s1+=(np.dot(self.w.T,x_i)+self.b)*x_i - y[idx]*x_i\n",
        "                s2+=(np.dot(self.w.T,x_i)+self.b - y[idx])\n",
        "            if(verbose!=0):\n",
        "                print('Iteration number :',_)\n",
        "                if((_)%10==0):\n",
        "                    print('w=',self.w,'b=',self.b,'\\n')\n",
        "            self.w-=self.lr*(self.w*self.l2_reg + 2*s1/n_samples)\n",
        "            self.b-=self.lr*(2*s2/n_samples)\n",
        "            \n",
        "    def predict(self,X):\n",
        "        predicts=[]\n",
        "        for idx,x_i in enumerate(X):\n",
        "            predicts.append(np.dot(self.w.T,x_i)+self.b)\n",
        "        return predicts"
      ],
      "execution_count": 0,
      "outputs": []
    },
    {
      "cell_type": "code",
      "metadata": {
        "id": "GtRdYNR0Di36",
        "colab_type": "code",
        "colab": {
          "base_uri": "https://localhost:8080/",
          "height": 300
        },
        "outputId": "526cdb7d-ca5c-47b3-9cb4-78794fa10e99"
      },
      "source": [
        "model1 = linear_model()\n",
        "model1.fit(x,y)\n",
        "\n",
        "x_range = np.arange(min(x), max(x), 1)\n",
        "\n",
        "plt.scatter(x,y)\n",
        "plt.plot(x_range,model1.w[0][0]*x_range+model1.b[0][0], color='y')\n",
        "plt.show()"
      ],
      "execution_count": 129,
      "outputs": [
        {
          "output_type": "stream",
          "text": [
            "Starting -- learning_rate: 0.01 ,iterations: 1000 ,L2_regularization: 0 \n",
            "\n"
          ],
          "name": "stdout"
        },
        {
          "output_type": "display_data",
          "data": {
            "image/png": "[encoded data removed]",
            "text/plain": [
              "<Figure size 432x288 with 1 Axes>"
            ]
          },
          "metadata": {
            "tags": [],
            "needs_background": "light"
          }
        }
      ]
    },
    {
      "cell_type": "code",
      "metadata": {
        "id": "6w67csmYEUf0",
        "colab_type": "code",
        "colab": {}
      },
      "source": [
        "# predicting values using Locally Weighted Regression for each integral value of 'x'\n",
        "\n",
        "x = pd.DataFrame({'Feature1':x})\n",
        "model2 = LocallyWeightedRegression()\n",
        "y_pred_model_2 = []\n",
        "for i in x_range:\n",
        "  y_pred_model_2.append(model2.fit_predict(x, y, np.array([[i],[1.0]]), learning_rate=0.01, iter=5, bandwidth=0.20))"
      ],
      "execution_count": 0,
      "outputs": []
    },
    {
      "cell_type": "code",
      "metadata": {
        "id": "1ymSkoUzWMTz",
        "colab_type": "code",
        "colab": {
          "base_uri": "https://localhost:8080/",
          "height": 265
        },
        "outputId": "b8af251b-1a34-471e-ecc9-90a4fecaaa9d"
      },
      "source": [
        "y_pred_model_2 = np.array(y_pred_model_2)\n",
        "\n",
        "# plotting\n",
        "plt.scatter(x['Feature1'],y)\n",
        "plt.plot(x_range,y_pred_model_2[:,0], color='y', label='Locally Weighted Regression')\n",
        "plt.plot(x_range,model1.w[0][0]*x_range+model1.b[0][0], color='r', label='Linear Regression')\n",
        "plt.legend()\n",
        "plt.show()"
      ],
      "execution_count": 135,
      "outputs": [
        {
          "output_type": "display_data",
          "data": {
            "image/png": "[encoded data removed]",
            "text/plain": [
              "<Figure size 432x288 with 1 Axes>"
            ]
          },
          "metadata": {
            "tags": [],
            "needs_background": "light"
          }
        }
      ]
    },
    {
      "cell_type": "markdown",
      "metadata": {
        "id": "bOPO-itAcY_J",
        "colab_type": "text"
      },
      "source": [
        "**Inference:**\n",
        "We can see that Locally Weighted Average(LWA) works better than linear regression for \n",
        "non-linear data. But for large datasets Linear Regression is still preferred because it is faster\n",
        "and '***parametric***' whereas LWA is '***non-parametric***'."
      ]
    }
  ]
}